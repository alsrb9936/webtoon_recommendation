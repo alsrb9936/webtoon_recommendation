{
 "cells": [
  {
   "cell_type": "code",
   "execution_count": 3,
   "metadata": {},
   "outputs": [],
   "source": [
    "import os\n",
    "import pandas as pd\n",
    "import numpy as np\n",
    "from math import sqrt\n",
    "from tqdm import tqdm_notebook as tqdm\n",
    "\n",
    "from sklearn.model_selection import train_test_split\n",
    "from sklearn.metrics import mean_squared_error\n",
    "import matplotlib.pyplot as plt\n",
    "from matrix_factorization import BaselineModel, KernelMF, train_update_test_split"
   ]
  },
  {
   "cell_type": "code",
   "execution_count": 16,
   "metadata": {},
   "outputs": [],
   "source": [
    "webtoon_data = pd.DataFrame([[1, 1, 9.0], [1, 546, 1.0], [1, 92, 10.0], [1, 97, 9.5], [1, 1360, 10.0], [1, 2, 2.0], [1, 9, 10.0], [1, 34, 10.0], [1, 8, 10.0], [1, 23, 9.5], [1, 16, 10.0], [1, 41, 9.0], [1, 14, 10.0], [1, 183, 10.0], [2, 2439, 10.0], [2, 116, 10.0], [2, 540, 10.0], [2, 538, 10.0],[3, 2439, 10.0], [3, 139, 10.0]], columns=['user_id', 'item_id', 'rating'])"
   ]
  },
  {
   "cell_type": "code",
   "execution_count": 17,
   "metadata": {},
   "outputs": [
    {
     "name": "stdout",
     "output_type": "stream",
     "text": [
      "0     4.0\n",
      "1     0.0\n",
      "2     5.0\n",
      "3     4.0\n",
      "4     5.0\n",
      "5     1.0\n",
      "6     5.0\n",
      "7     5.0\n",
      "8     5.0\n",
      "9     4.0\n",
      "10    5.0\n",
      "11    4.0\n",
      "12    5.0\n",
      "13    5.0\n",
      "14    5.0\n",
      "15    5.0\n",
      "16    5.0\n",
      "17    5.0\n",
      "18    5.0\n",
      "19    5.0\n",
      "Name: rating, dtype: float64\n",
      "Epoch  1 / 20  -  train_rmse: 1.3301313390135139\n",
      "Epoch  2 / 20  -  train_rmse: 1.3097415355787063\n",
      "Epoch  3 / 20  -  train_rmse: 1.2912308836329651\n",
      "Epoch  4 / 20  -  train_rmse: 1.2737094213918174\n",
      "Epoch  5 / 20  -  train_rmse: 1.2567195194951422\n",
      "Epoch  6 / 20  -  train_rmse: 1.2409263410464666\n",
      "Epoch  7 / 20  -  train_rmse: 1.225387230707439\n",
      "Epoch  8 / 20  -  train_rmse: 1.2107266584361323\n",
      "Epoch  9 / 20  -  train_rmse: 1.1963805904662197\n",
      "Epoch  10 / 20  -  train_rmse: 1.182473172115004\n",
      "Epoch  11 / 20  -  train_rmse: 1.1690198369317433\n",
      "Epoch  12 / 20  -  train_rmse: 1.1558165509378566\n",
      "Epoch  13 / 20  -  train_rmse: 1.1428826774231242\n",
      "Epoch  14 / 20  -  train_rmse: 1.130164426307329\n",
      "Epoch  15 / 20  -  train_rmse: 1.1177175661111487\n",
      "Epoch  16 / 20  -  train_rmse: 1.1055651660784265\n",
      "Epoch  17 / 20  -  train_rmse: 1.0935366346756275\n",
      "Epoch  18 / 20  -  train_rmse: 1.0817364731866204\n",
      "Epoch  19 / 20  -  train_rmse: 1.070141960898864\n",
      "Epoch  20 / 20  -  train_rmse: 1.058720879313014\n"
     ]
    },
    {
     "data": {
      "text/html": [
       "<style>#sk-container-id-3 {color: black;background-color: white;}#sk-container-id-3 pre{padding: 0;}#sk-container-id-3 div.sk-toggleable {background-color: white;}#sk-container-id-3 label.sk-toggleable__label {cursor: pointer;display: block;width: 100%;margin-bottom: 0;padding: 0.3em;box-sizing: border-box;text-align: center;}#sk-container-id-3 label.sk-toggleable__label-arrow:before {content: \"▸\";float: left;margin-right: 0.25em;color: #696969;}#sk-container-id-3 label.sk-toggleable__label-arrow:hover:before {color: black;}#sk-container-id-3 div.sk-estimator:hover label.sk-toggleable__label-arrow:before {color: black;}#sk-container-id-3 div.sk-toggleable__content {max-height: 0;max-width: 0;overflow: hidden;text-align: left;background-color: #f0f8ff;}#sk-container-id-3 div.sk-toggleable__content pre {margin: 0.2em;color: black;border-radius: 0.25em;background-color: #f0f8ff;}#sk-container-id-3 input.sk-toggleable__control:checked~div.sk-toggleable__content {max-height: 200px;max-width: 100%;overflow: auto;}#sk-container-id-3 input.sk-toggleable__control:checked~label.sk-toggleable__label-arrow:before {content: \"▾\";}#sk-container-id-3 div.sk-estimator input.sk-toggleable__control:checked~label.sk-toggleable__label {background-color: #d4ebff;}#sk-container-id-3 div.sk-label input.sk-toggleable__control:checked~label.sk-toggleable__label {background-color: #d4ebff;}#sk-container-id-3 input.sk-hidden--visually {border: 0;clip: rect(1px 1px 1px 1px);clip: rect(1px, 1px, 1px, 1px);height: 1px;margin: -1px;overflow: hidden;padding: 0;position: absolute;width: 1px;}#sk-container-id-3 div.sk-estimator {font-family: monospace;background-color: #f0f8ff;border: 1px dotted black;border-radius: 0.25em;box-sizing: border-box;margin-bottom: 0.5em;}#sk-container-id-3 div.sk-estimator:hover {background-color: #d4ebff;}#sk-container-id-3 div.sk-parallel-item::after {content: \"\";width: 100%;border-bottom: 1px solid gray;flex-grow: 1;}#sk-container-id-3 div.sk-label:hover label.sk-toggleable__label {background-color: #d4ebff;}#sk-container-id-3 div.sk-serial::before {content: \"\";position: absolute;border-left: 1px solid gray;box-sizing: border-box;top: 0;bottom: 0;left: 50%;z-index: 0;}#sk-container-id-3 div.sk-serial {display: flex;flex-direction: column;align-items: center;background-color: white;padding-right: 0.2em;padding-left: 0.2em;position: relative;}#sk-container-id-3 div.sk-item {position: relative;z-index: 1;}#sk-container-id-3 div.sk-parallel {display: flex;align-items: stretch;justify-content: center;background-color: white;position: relative;}#sk-container-id-3 div.sk-item::before, #sk-container-id-3 div.sk-parallel-item::before {content: \"\";position: absolute;border-left: 1px solid gray;box-sizing: border-box;top: 0;bottom: 0;left: 50%;z-index: -1;}#sk-container-id-3 div.sk-parallel-item {display: flex;flex-direction: column;z-index: 1;position: relative;background-color: white;}#sk-container-id-3 div.sk-parallel-item:first-child::after {align-self: flex-end;width: 50%;}#sk-container-id-3 div.sk-parallel-item:last-child::after {align-self: flex-start;width: 50%;}#sk-container-id-3 div.sk-parallel-item:only-child::after {width: 0;}#sk-container-id-3 div.sk-dashed-wrapped {border: 1px dashed gray;margin: 0 0.4em 0.5em 0.4em;box-sizing: border-box;padding-bottom: 0.4em;background-color: white;}#sk-container-id-3 div.sk-label label {font-family: monospace;font-weight: bold;display: inline-block;line-height: 1.2em;}#sk-container-id-3 div.sk-label-container {text-align: center;}#sk-container-id-3 div.sk-container {/* jupyter's `normalize.less` sets `[hidden] { display: none; }` but bootstrap.min.css set `[hidden] { display: none !important; }` so we also need the `!important` here to be able to override the default hidden behavior on the sphinx rendered scikit-learn.org. See: https://github.com/scikit-learn/scikit-learn/issues/21755 */display: inline-block !important;position: relative;}#sk-container-id-3 div.sk-text-repr-fallback {display: none;}</style><div id=\"sk-container-id-3\" class=\"sk-top-container\"><div class=\"sk-text-repr-fallback\"><pre>BaselineModel(n_epochs=20, reg=0.005)</pre><b>In a Jupyter environment, please rerun this cell to show the HTML representation or trust the notebook. <br />On GitHub, the HTML representation is unable to render, please try loading this page with nbviewer.org.</b></div><div class=\"sk-container\" hidden><div class=\"sk-item\"><div class=\"sk-estimator sk-toggleable\"><input class=\"sk-toggleable__control sk-hidden--visually\" id=\"sk-estimator-id-3\" type=\"checkbox\" checked><label for=\"sk-estimator-id-3\" class=\"sk-toggleable__label sk-toggleable__label-arrow\">BaselineModel</label><div class=\"sk-toggleable__content\"><pre>BaselineModel(n_epochs=20, reg=0.005)</pre></div></div></div></div></div>"
      ],
      "text/plain": [
       "BaselineModel(n_epochs=20, reg=0.005)"
      ]
     },
     "execution_count": 17,
     "metadata": {},
     "output_type": "execute_result"
    }
   ],
   "source": [
    "cols = ['user_id', 'item_id', 'rating']\n",
    "\n",
    "X = webtoon_data[['user_id', 'item_id']]\n",
    "y = webtoon_data['rating']//2\n",
    "baseline_model = BaselineModel(method='sgd', n_epochs = 20, reg = 0.005, lr = 0.01, verbose=1)\n",
    "baseline_model.fit(X, y)\n"
   ]
  },
  {
   "cell_type": "code",
   "execution_count": 18,
   "metadata": {},
   "outputs": [
    {
     "name": "stdout",
     "output_type": "stream",
     "text": [
      "[4.268676147192154, 4.257439349716732, 4.257337138553481, 4.256949916066991, 4.256370908972126, 4.255887894616985, 4.255872100352125, 4.255695849191278, 4.2556030090556, 4.187735302373237, 4.187647595779578, 4.187425451750128, 4.074521475152499, 4.074424484241816, 4.074040556317646, 4.073035530600823, 3.5255845678477096, 3.342091525320206]\n"
     ]
    }
   ],
   "source": [
    "X_test = pd.DataFrame([[1, 1], [1, 546], [1, 92], [1, 97], [1, 1360], [1, 2], [1, 9], [1, 34], [1, 8], [1, 23], [1, 16], [1, 41], [1, 14], [1, 183], [1, 2439], [1, 116], [1, 540], [1, 538]], columns=['user_id', 'item_id'])\n",
    "pred = baseline_model.predict(X_test)\n",
    "print(sorted(pred, reverse=True))"
   ]
  },
  {
   "cell_type": "code",
   "execution_count": 19,
   "metadata": {},
   "outputs": [
    {
     "data": {
      "text/html": [
       "<div>\n",
       "<style scoped>\n",
       "    .dataframe tbody tr th:only-of-type {\n",
       "        vertical-align: middle;\n",
       "    }\n",
       "\n",
       "    .dataframe tbody tr th {\n",
       "        vertical-align: top;\n",
       "    }\n",
       "\n",
       "    .dataframe thead th {\n",
       "        text-align: right;\n",
       "    }\n",
       "</style>\n",
       "<table border=\"1\" class=\"dataframe\">\n",
       "  <thead>\n",
       "    <tr style=\"text-align: right;\">\n",
       "      <th></th>\n",
       "      <th>user_id</th>\n",
       "      <th>item_id</th>\n",
       "      <th>rating_pred</th>\n",
       "    </tr>\n",
       "  </thead>\n",
       "  <tbody>\n",
       "    <tr>\n",
       "      <th>10</th>\n",
       "      <td>3</td>\n",
       "      <td>2439</td>\n",
       "      <td>4.703508</td>\n",
       "    </tr>\n",
       "    <tr>\n",
       "      <th>12</th>\n",
       "      <td>3</td>\n",
       "      <td>16</td>\n",
       "      <td>4.692271</td>\n",
       "    </tr>\n",
       "    <tr>\n",
       "      <th>6</th>\n",
       "      <td>3</td>\n",
       "      <td>14</td>\n",
       "      <td>4.692169</td>\n",
       "    </tr>\n",
       "    <tr>\n",
       "      <th>16</th>\n",
       "      <td>3</td>\n",
       "      <td>92</td>\n",
       "      <td>4.691782</td>\n",
       "    </tr>\n",
       "    <tr>\n",
       "      <th>18</th>\n",
       "      <td>3</td>\n",
       "      <td>34</td>\n",
       "      <td>4.691203</td>\n",
       "    </tr>\n",
       "    <tr>\n",
       "      <th>7</th>\n",
       "      <td>3</td>\n",
       "      <td>1360</td>\n",
       "      <td>4.690720</td>\n",
       "    </tr>\n",
       "    <tr>\n",
       "      <th>15</th>\n",
       "      <td>3</td>\n",
       "      <td>183</td>\n",
       "      <td>4.690704</td>\n",
       "    </tr>\n",
       "    <tr>\n",
       "      <th>3</th>\n",
       "      <td>3</td>\n",
       "      <td>9</td>\n",
       "      <td>4.690528</td>\n",
       "    </tr>\n",
       "    <tr>\n",
       "      <th>13</th>\n",
       "      <td>3</td>\n",
       "      <td>8</td>\n",
       "      <td>4.690435</td>\n",
       "    </tr>\n",
       "    <tr>\n",
       "      <th>2</th>\n",
       "      <td>3</td>\n",
       "      <td>139</td>\n",
       "      <td>4.638343</td>\n",
       "    </tr>\n",
       "  </tbody>\n",
       "</table>\n",
       "</div>"
      ],
      "text/plain": [
       "    user_id  item_id  rating_pred\n",
       "10        3     2439     4.703508\n",
       "12        3       16     4.692271\n",
       "6         3       14     4.692169\n",
       "16        3       92     4.691782\n",
       "18        3       34     4.691203\n",
       "7         3     1360     4.690720\n",
       "15        3      183     4.690704\n",
       "3         3        9     4.690528\n",
       "13        3        8     4.690435\n",
       "2         3      139     4.638343"
      ]
     },
     "execution_count": 19,
     "metadata": {},
     "output_type": "execute_result"
    }
   ],
   "source": [
    "baseline_model.recommend(user=3)"
   ]
  },
  {
   "cell_type": "code",
   "execution_count": null,
   "metadata": {},
   "outputs": [],
   "source": []
  }
 ],
 "metadata": {
  "kernelspec": {
   "display_name": "env_torch",
   "language": "python",
   "name": "python3"
  },
  "language_info": {
   "codemirror_mode": {
    "name": "ipython",
    "version": 3
   },
   "file_extension": ".py",
   "mimetype": "text/x-python",
   "name": "python",
   "nbconvert_exporter": "python",
   "pygments_lexer": "ipython3",
   "version": "3.8.16"
  }
 },
 "nbformat": 4,
 "nbformat_minor": 2
}
